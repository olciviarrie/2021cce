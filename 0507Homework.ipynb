{
  "nbformat": 4,
  "nbformat_minor": 0,
  "metadata": {
    "colab": {
      "provenance": [],
      "include_colab_link": true
    },
    "kernelspec": {
      "name": "python3",
      "display_name": "Python 3"
    },
    "language_info": {
      "name": "python"
    }
  },
  "cells": [
    {
      "cell_type": "markdown",
      "metadata": {
        "id": "view-in-github",
        "colab_type": "text"
      },
      "source": [
        "<a href=\"https://colab.research.google.com/github/olciviarrie/2021cce/blob/main/0507Homework.ipynb\" target=\"_parent\"><img src=\"https://colab.research.google.com/assets/colab-badge.svg\" alt=\"Open In Colab\"/></a>"
      ]
    },
    {
      "cell_type": "markdown",
      "source": [
        "No1. 請設計一個串列，students，分別於index為0,2,4...處存放姓名，和index為1,3,5...處存放成績。姓名為Lendy，其成績為90、姓名為Mary，其成績為72、姓名為Bill，其成績為88和姓名為John，其成績為92。\n",
        "\n",
        "輸出姓名和成績，其格式為，姓名:成績。\n",
        "\n",
        "請依照下面程式範例與要求撰寫程式。\n",
        "\n",
        "students=[....] # index為0,2,4...處存放姓名。index為1,3,5...處存放成績\n",
        "\n",
        "for ... range(...) # 用range，並計算串列長度(len)來進行for迴圈"
      ],
      "metadata": {
        "id": "cxezlQeruJM9"
      }
    },
    {
      "cell_type": "code",
      "source": [
        "# prompt: 設計一個串列，students，分別於index為0,2,4...處存放姓名，和index為1,3,5...處存放成績。姓名為Lendy，其成績為90、姓名為Mary，其成績為72、姓名為Bill，其成績為88和姓名為John，其成績為92。\n",
        "# 輸出姓名和成績，其格式為，姓名:成績。\n",
        "# 請依照下面程式範例與要求撰寫程式。\n",
        "# students=[....] # index為0,2,4...處存放姓名。index為1,3,5...處存放成績\n",
        "# for ... range(...) # 用range，並計算串列長度(len)來進行for迴圈\n",
        "\n",
        "students = [\"Lendy\", 90, \"Mary\", 72, \"Bill\", 88, \"John\", 92]\n",
        "\n",
        "for i in range(0, len(students), 2):\n",
        "  print(students[i] + \":\" + str(students[i+1]))\n"
      ],
      "metadata": {
        "id": "nY3fyow3JQKF",
        "outputId": "7d3819db-5291-49f8-f473-e0104a3e8c58",
        "colab": {
          "base_uri": "https://localhost:8080/"
        }
      },
      "execution_count": 1,
      "outputs": [
        {
          "output_type": "stream",
          "name": "stdout",
          "text": [
            "Lendy:90\n",
            "Mary:72\n",
            "Bill:88\n",
            "John:92\n"
          ]
        }
      ]
    },
    {
      "cell_type": "markdown",
      "source": [
        "No2. 請設計一個串列，students，分別於index為0,2,4...處存放姓名，和index為1,3,5...處存放成績。姓名為Lendy，其成績為90、姓名為Mary，其成績為72、姓名為Bill，其成績為88和姓名為John，其成績為92。\n",
        "\n",
        "請找出全班最高分與最低分的人，並輸出姓名和成績，其格式為，姓名:成績。\n",
        "\n",
        "請依照下面程式範例與要求撰寫程式。\n",
        "\n",
        "students=[....] # index為0,2,4...處存放姓名。index為1,3,5...處存放成績\n",
        "\n",
        "students[1::2] # 取出成績\n",
        "\n",
        "提示:index函式、slice、max和min函式。"
      ],
      "metadata": {
        "id": "H8vKbBBfK6i4"
      }
    },
    {
      "cell_type": "code",
      "source": [
        "students = ['Lendy', 90, 'Mary', 72, 'Bill', 88, 'John', 92]\n",
        "\n",
        "scores = students[1::2]\n",
        "max_i = students.index(max(scores))\n",
        "min_i = students.index(min(scores))\n",
        "\n",
        "print(f\"{students[max_i-1]}:{students[max_i]}\")\n",
        "print(f\"{students[min_i-1]}:{students[min_i]}\")\n"
      ],
      "metadata": {
        "id": "J0aFTT8TxeRp",
        "outputId": "0a132da5-3490-4777-f2af-1a13ac06af65",
        "colab": {
          "base_uri": "https://localhost:8080/"
        }
      },
      "execution_count": 3,
      "outputs": [
        {
          "output_type": "stream",
          "name": "stdout",
          "text": [
            "John:92\n",
            "Mary:72\n"
          ]
        }
      ]
    },
    {
      "cell_type": "markdown",
      "source": [
        "No3. 請設計一個串列，students，分別於index為0,2,4...處存放姓名，和index為1,3,5...處存放成績。姓名為Lendy，其成績為90、姓名為Mary，其成績為72、姓名為Bill，其成績為88和姓名為John，其成績為92。\n",
        "\n",
        "請找出全班最高分與最低分的人，並輸出姓名和成績，其格式為，姓名:成績。\n",
        "\n",
        "請依照下面程式範例與要求撰寫程式。\n",
        "\n",
        "students=[....] # index為0,2,4...處存放姓名。index為1,3,5...處存放成績\n",
        "\n",
        "students[1::2] # 取出成績\n",
        "\n",
        "提示:index函式、slice和sort函式。"
      ],
      "metadata": {
        "id": "kEM9yCfwNDGZ"
      }
    },
    {
      "cell_type": "code",
      "source": [
        "# prompt: 請設計一個串列，students，分別於index為0,2,4...處存放姓名，和index為1,3,5...處存放成績。姓名為Lendy，其成績為90、姓名為Mary，其成績為72、姓名為Bill，其成績為88和姓名為John，其成績為92。\n",
        "# 請找出全班最高分與最低分的人，並輸出姓名和成績，其格式為，姓名:成績。\n",
        "# 請依照下面程式範例與要求撰寫程式。\n",
        "# students=[....] # index為0,2,4...處存放姓名。index為1,3,5...處存放成績\n",
        "# students[1::2] # 取出成績\n",
        "# 提示:index函式、slice和sort函式。\n",
        "\n",
        "students = ['Lendy', 90, 'Mary', 72, 'Bill', 88, 'John', 92]\n",
        "\n",
        "# 取出所有成績並排序\n",
        "scores = students[1::2]\n",
        "sorted_scores = sorted(scores)  # sort() 會改變原串列，用 sorted() 產生新串列\n",
        "\n",
        "min_score = sorted_scores[0]\n",
        "max_score = sorted_scores[-1]\n",
        "\n",
        "# 找出分數在原串列中的 index，再往前一格取得姓名\n",
        "min_index = students.index(min_score)\n",
        "max_index = students.index(max_score)\n",
        "\n",
        "print(f\"{students[max_index-1]}:{max_score}\")\n",
        "print(f\"{students[min_index-1]}:{min_score}\")\n",
        "\n"
      ],
      "metadata": {
        "id": "5RpE_2wCTG1N",
        "outputId": "075a7a62-dac2-44f1-e6bf-160a9c250cd6",
        "colab": {
          "base_uri": "https://localhost:8080/"
        }
      },
      "execution_count": 6,
      "outputs": [
        {
          "output_type": "stream",
          "name": "stdout",
          "text": [
            "John:92\n",
            "Mary:72\n"
          ]
        }
      ]
    },
    {
      "cell_type": "markdown",
      "source": [
        "No4. 請設計一個串列，students，分別於index為0,2,4...處存放姓名，和index為1,3,5...處存放成績。姓名為Lendy，其成績為90、姓名為Mary，其成績為72、姓名為Bill，其成績為88和姓名為John，其成績為92。\n",
        "\n",
        "請從最低分到最高分，輸出姓名和成績。再從最高分到最低分，輸出姓名和成績，其格式為，姓名:成績。\n",
        "\n",
        "請依照下面程式範例與要求撰寫程式。\n",
        "\n",
        "students=[....] # index為0,2,4...處存放姓名。index為1,3,5...處存放成績\n",
        "\n",
        "提示:index函式、slice和sort函式。"
      ],
      "metadata": {
        "id": "5rzVo8T_uPF9"
      }
    },
    {
      "cell_type": "code",
      "source": [
        "# prompt: 請設計一個串列，students，分別於index為0,2,4...處存放姓名，和index為1,3,5...處存放成績。姓名為Lendy，其成績為90、姓名為Mary，其成績為72、姓名為Bill，其成績為88和姓名為John，其成績為92。\n",
        "# 請從最低分到最高分，輸出姓名和成績。再從最高分到最低分，輸出姓名和成績，其格式為，姓名:成績。\n",
        "# 請依照下面程式範例與要求撰寫程式。\n",
        "# students=[....] # index為0,2,4...處存放姓名。index為1,3,5...處存放成績\n",
        "# 提示:index函式、slice和sort函式。\n",
        "\n",
        "students = ['Lendy', 90, 'Mary', 72, 'Bill', 88, 'John', 92]\n",
        "\n",
        "scores = students[1::2]             # 取出所有成績\n",
        "sorted_scores = sorted(scores)      # 從小到大排序\n",
        "print(\"由低到高：\")\n",
        "for score in sorted_scores:\n",
        "    i = students.index(score)       # 找出成績在串列中的位置\n",
        "    print(f\"{students[i-1]}:{score}\")\n",
        "\n",
        "print(\"由高到低：\")\n",
        "for score in sorted(scores, reverse=True):  # 從大到小排序\n",
        "    i = students.index(score)\n",
        "    print(f\"{students[i-1]}:{score}\")\n",
        "\n"
      ],
      "metadata": {
        "id": "Wq_penDHuTcv",
        "outputId": "272fd8fc-6377-43ec-e902-39dc11c2152a",
        "colab": {
          "base_uri": "https://localhost:8080/"
        }
      },
      "execution_count": 7,
      "outputs": [
        {
          "output_type": "stream",
          "name": "stdout",
          "text": [
            "Lowest to Highest:\n",
            "Mary:72\n",
            "Bill:88\n",
            "Lendy:90\n",
            "John:92\n",
            "\n",
            "Highest to Lowest:\n",
            "John:92\n",
            "Lendy:90\n",
            "Bill:88\n",
            "Mary:72\n"
          ]
        }
      ]
    },
    {
      "cell_type": "markdown",
      "source": [
        "No5. 請設計一個串列，students，分別於index為0,2,4...處存放姓名，和index為1,3,5...處存放成績。姓名為Lendy，其成績為90、姓名為Mary，其成績為72、姓名為Bill，其成績為88和姓名為John，其成績為92。\n",
        "\n",
        "請從最低分到最高分，輸出姓名和成績。再從最高分到最低分，輸出姓名和成績，其格式為，姓名:成績。\n",
        "\n",
        "請依照下面程式範例與要求撰寫程式。\n",
        "\n",
        "students=[....] # index為0,2,4...處存放姓名。index為1,3,5...處存放成績\n",
        "\n",
        "提示:index函式、slice、sort和reverse函式。"
      ],
      "metadata": {
        "id": "uIVLo400bCPr"
      }
    },
    {
      "cell_type": "code",
      "source": [
        "# prompt: 請設計一個串列，students，分別於index為0,2,4...處存放姓名，和index為1,3,5...處存放成績。姓名為Lendy，其成績為90、姓名為Mary，其成績為72、姓名為Bill，其成績為88和姓名為John，其成績為92。\n",
        "# 請從最低分到最高分，輸出姓名和成績。再從最高分到最低分，輸出姓名和成績，其格式為，姓名:成績。\n",
        "# 請依照下面程式範例與要求撰寫程式。\n",
        "# students=[....] # index為0,2,4...處存放姓名。index為1,3,5...處存放成績\n",
        "# 提示:index函式、slice、sort和reverse函式。\n",
        "\n",
        "students = ['Lendy', 90, 'Mary', 72, 'Bill', 88, 'John', 92]\n",
        "\n",
        "# 取出所有成績並複製成一份新串列\n",
        "scores = students[1::2]\n",
        "sorted_scores = scores.copy()\n",
        "sorted_scores.sort()  # 由小到大排序\n",
        "\n",
        "print(\"由低到高：\")\n",
        "for score in sorted_scores:\n",
        "    index = students.index(score)\n",
        "    name = students[index - 1]\n",
        "    print(f\"{name}:{score}\")\n",
        "\n",
        "# 再將排序結果反轉（變成由大到小）\n",
        "sorted_scores.reverse()\n",
        "\n",
        "print(\"由高到低：\")\n",
        "for score in sorted_scores:\n",
        "    index = students.index(score)\n",
        "    name = students[index - 1]\n",
        "    print(f\"{name}:{score}\")\n",
        "\n"
      ],
      "metadata": {
        "id": "5GsOyU_AbOvS",
        "outputId": "241c4579-1607-472b-a97b-41a044625687",
        "colab": {
          "base_uri": "https://localhost:8080/"
        }
      },
      "execution_count": 8,
      "outputs": [
        {
          "output_type": "stream",
          "name": "stdout",
          "text": [
            "Lowest to Highest:\n",
            "Mary:72\n",
            "Bill:88\n",
            "Lendy:90\n",
            "John:92\n",
            "\n",
            "Highest to Lowest:\n",
            "John:92\n",
            "Lendy:90\n",
            "Bill:88\n",
            "Mary:72\n"
          ]
        }
      ]
    },
    {
      "cell_type": "markdown",
      "source": [
        "No6.\n",
        "請設計兩個串列，names和scores，分別存放姓名和成績。姓名為Lendy，其成績為90、姓名為Mary，其成績為72、姓名為Bill，其成績為88和姓名為John，其成績為92。\n",
        "\n",
        "輸出姓名和成績，其格式為，姓名:成績。\n",
        "\n",
        "請依照下面程式範例與要求撰寫程式。\n",
        "```python\n",
        "names=[....] # 存放姓名\n",
        "scores=[....] # 存放成績\n",
        "\n",
        "for ... range(...)  # 用range，並計算串列長度(len)來進行for迴圈\n",
        "```"
      ],
      "metadata": {
        "id": "MQxLDtvAmoco"
      }
    },
    {
      "cell_type": "code",
      "source": [
        "# prompt: 請設計兩個串列，names和scores，分別存放姓名和成績。姓名為Lendy，其成績為90、姓名為Mary，其成績為72、姓名為Bill，其成績為88和姓名為John，其成績為92。\n",
        "# 輸出姓名和成績，其格式為，姓名:成績。\n",
        "# 請依照下面程式範例與要求撰寫程式。\n",
        "\n",
        "names = [\"Lendy\", \"Mary\", \"Bill\", \"John\"]\n",
        "scores = [90, 72, 88, 92]\n",
        "\n",
        "for i in range(len(names)):\n",
        "  print(f\"{names[i]}:{scores[i]}\")\n"
      ],
      "metadata": {
        "id": "oSC92m8UoNm7"
      },
      "execution_count": null,
      "outputs": []
    },
    {
      "cell_type": "markdown",
      "source": [
        "No7.\n",
        "請設計兩個串列，names和scores，分別存放姓名和成績。姓名為Lendy，其成績為90、姓名為Mary，其成績為72、姓名為Bill，其成績為88和姓名為John，其成績為92。\n",
        "\n",
        "輸出姓名和成績，其格式為，姓名:成績。\n",
        "\n",
        "請依照下面程式範例與要求撰寫程式。\n",
        "```python\n",
        "names=list(...) # 存放姓名\n",
        "scores=list(...) # 存放成績\n",
        "\n",
        "for ... range(...)  # 用range，並計算串列長度來進行for迴圈\n",
        "```"
      ],
      "metadata": {
        "id": "ilh3jo0rn6K8"
      }
    },
    {
      "cell_type": "code",
      "source": [
        "# prompt: 請設計兩個串列，names和scores，分別存放姓名和成績。姓名為Lendy，其成績為90、姓名為Mary，其成績為72、姓名為Bill，其成績為88和姓名為John，其成績為92。\n",
        "# 輸出姓名和成績，其格式為，姓名:成績。\n",
        "# 請依照下面程式範例與要求撰寫程式。\n",
        "\n",
        "names = list([\"Lendy\", \"Mary\", \"Bill\", \"John\"])\n",
        "scores = list([90, 72, 88, 92])\n",
        "\n",
        "for i in range(len(names)):\n",
        "  print(f\"{names[i]}:{scores[i]}\")\n"
      ],
      "metadata": {
        "id": "_6noXadynl9o"
      },
      "execution_count": null,
      "outputs": []
    },
    {
      "cell_type": "markdown",
      "source": [
        "No8. 請設計兩個串列，names和scores，分別存放姓名和成績。姓名為Lendy，其成績為90、姓名為Mary，其成績為72、姓名為Bill，其成績為88和姓名為John，其成績為92。\n",
        "\n",
        "請計算全班平均。\n"
      ],
      "metadata": {
        "id": "UX7UX-P9qY-h"
      }
    },
    {
      "cell_type": "code",
      "source": [
        "# prompt: 請設計兩個串列，names和scores，分別存放姓名和成績。姓名為Lendy，其成績為90、姓名為Mary，其成績為72、姓名為Bill，其成績為88和姓名為John，其成績為92。\n",
        "# 請計算全班平均。\n",
        "\n",
        "names = [\"Lendy\", \"Mary\", \"Bill\", \"John\"]\n",
        "scores = [90, 72, 88, 92]\n",
        "\n",
        "total_score = sum(scores)\n",
        "average_score = total_score / len(scores)\n",
        "\n",
        "print(f\"全班平均: {average_score}\")\n"
      ],
      "metadata": {
        "id": "41HamrQGq0mQ"
      },
      "execution_count": null,
      "outputs": []
    },
    {
      "cell_type": "markdown",
      "source": [
        "No9. 請設計兩個串列，names和scores，分別存放姓名和成績。姓名為Lendy，其成績為90、姓名為Mary，其成績為72、姓名為Bill，其成績為88和姓名為John，其成績為92。\n",
        "\n",
        "請找出全班最高分與最低分的人，並輸出姓名和成績，其格式為:\n",
        "\n",
        "最高分:姓名:成績。\n",
        "\n",
        "最低分:姓名:成績。\n",
        "\n",
        "提示:index方法"
      ],
      "metadata": {
        "id": "KnUz3xIvoxuC"
      }
    },
    {
      "cell_type": "code",
      "source": [
        "# prompt: 請設計兩個串列，names和scores，分別存放姓名和成績。姓名為Lendy，其成績為90、姓名為Mary，其成績為72、姓名為Bill，其成績為88和姓名為John，其成績為92。\n",
        "# 請找出全班最高分與最低分的人，並輸出姓名和成績，其格式為:\n",
        "# 最高分:姓名:成績。\n",
        "# 最低分:姓名:成績。\n",
        "# 提示:index方法\n",
        "\n",
        "names = [\"Lendy\", \"Mary\", \"Bill\", \"John\"]\n",
        "scores = [90, 72, 88, 92]\n",
        "\n",
        "max_score = max(scores)\n",
        "min_score = min(scores)\n",
        "\n",
        "max_index = scores.index(max_score)\n",
        "min_index = scores.index(min_score)\n",
        "\n",
        "print(f\"最高分:{names[max_index]}:{max_score}\")\n",
        "print(f\"最低分:{names[min_index]}:{min_score}\")\n"
      ],
      "metadata": {
        "id": "mYHh3zzzrd25",
        "outputId": "3adfeff1-4c8e-4cd5-aec9-ee3846b2ef5b",
        "colab": {
          "base_uri": "https://localhost:8080/"
        }
      },
      "execution_count": 9,
      "outputs": [
        {
          "output_type": "stream",
          "name": "stdout",
          "text": [
            "最高分:John:92\n",
            "最低分:Mary:72\n"
          ]
        }
      ]
    },
    {
      "cell_type": "markdown",
      "source": [
        "No10. 請設計兩個串列，names和scores，分別存放姓名和成績。姓名為Lendy，其成績為90、姓名為Mary，其成績為72、姓名為Bill，其成績為88和姓名為John，其成績為92。\n",
        "\n",
        "請從最低分到最高分，輸出姓名和成績。再從最高分到最低分，輸出姓名和成績。\n",
        "請使用sorted方法。\n",
        "\n",
        "建議:建立先的變數scores_sorted代表排序後的scores。\n"
      ],
      "metadata": {
        "id": "rWEM9Ocrr9ia"
      }
    },
    {
      "cell_type": "code",
      "source": [
        "# prompt: 請設計兩個串列，names和scores，分別存放姓名和成績。姓名為Lendy，其成績為90、姓名為Mary，其成績為72、姓名為Bill，其成績為88和姓名為John，其成績為92。\n",
        "# 請從最低分到最高分，輸出姓名和成績。再從最高分到最低分，輸出姓名和成績。 請使用sorted方法。\n",
        "# 建議:建立先的變數scores_sorted代表排序後的scores。\n",
        "\n",
        "names = ['Lendy', 'Mary', 'Bill', 'John']\n",
        "scores = [90, 72, 88, 92]\n",
        "\n",
        "# 建立由低到高的排序（同時記住分數與原本的索引）\n",
        "scores_sorted = sorted(zip(scores, names))  # [(72, 'Mary'), (88, 'Bill'), (90, 'Lendy'), (92, 'John')]\n",
        "\n",
        "print(\"由低到高：\")\n",
        "for score, name in scores_sorted:\n",
        "    print(f\"{name}:{score}\")\n",
        "\n",
        "print(\"由高到低：\")\n",
        "for score, name in reversed(scores_sorted):\n",
        "    print(f\"{name}:{score}\")\n"
      ],
      "metadata": {
        "id": "JSQLOeKZsamW"
      },
      "execution_count": null,
      "outputs": []
    },
    {
      "cell_type": "markdown",
      "source": [
        "No11. 請設計兩個串列，names和scores，分別存放姓名和成績。姓名為Lendy，其成績為90、姓名為Mary，其成績為72、姓名為Bill，其成績為88和姓名為John，其成績為92。\n",
        "\n",
        "請從最低分到最高分，輸出姓名和成績。再從最高分到最低分，輸出姓名和成績。 請使用sorted和reversed方法。"
      ],
      "metadata": {
        "id": "hNavp4gctQiq"
      }
    },
    {
      "cell_type": "code",
      "source": [
        "names = ['Lendy', 'Mary', 'Bill', 'John']\n",
        "scores = [90, 72, 88, 92]\n",
        "\n",
        "# 先把姓名與成績結合成一對一的資料\n",
        "paired = list(zip(scores, names))  # [(90, 'Lendy'), (72, 'Mary'), (88, 'Bill'), (92, 'John')]\n",
        "\n",
        "# 由低到高排序\n",
        "sorted_scores = sorted(paired)\n",
        "\n",
        "print(\"由低到高：\")\n",
        "for score, name in sorted_scores:\n",
        "    print(f\"{name}:{score}\")\n",
        "\n",
        "print(\"由高到低：\")\n",
        "for score, name in reversed(sorted_scores):\n",
        "    print(f\"{name}:{score}\")\n"
      ],
      "metadata": {
        "id": "IP0A_R9Xta_O"
      },
      "execution_count": null,
      "outputs": []
    },
    {
      "cell_type": "markdown",
      "source": [
        "No12. 請設計兩個串列，names和scores，分別存放姓名和成績。姓名為Lendy，其成績為90、姓名為Mary，其成績為72、姓名為Bill，其成績為88和姓名為John，其成績為92。\n",
        "\n",
        "請從最低分到最高分，輸出姓名和成績。再從最高分到最低分，輸出姓名和成績。 請使用sort方法。\n",
        "\n",
        "提示:適切使用copy()"
      ],
      "metadata": {
        "id": "Wr93p12puVPz"
      }
    },
    {
      "cell_type": "code",
      "source": [
        "names = ['Lendy', 'Mary', 'Bill', 'John']\n",
        "scores = [90, 72, 88, 92]\n",
        "\n",
        "# 把姓名和成績結合，並複製出一份新資料\n",
        "paired = list(zip(names, scores))\n",
        "sorted_paired = paired.copy()\n",
        "\n",
        "# 依成績排序（由低到高）\n",
        "sorted_paired.sort(key=lambda x: x[1])\n",
        "\n",
        "print(\"由低到高：\")\n",
        "for name, score in sorted_paired:\n",
        "    print(f\"{name}:{score}\")\n",
        "\n",
        "# 反轉為由高到低\n",
        "sorted_paired.reverse()\n",
        "\n",
        "print(\"由高到低：\")\n",
        "for name, score in sorted_paired:\n",
        "    print(f\"{name}:{score}\")\n"
      ],
      "metadata": {
        "id": "turD6U2EuTGG",
        "outputId": "98a55e88-2399-4ded-e632-b14f9263b990",
        "colab": {
          "base_uri": "https://localhost:8080/"
        }
      },
      "execution_count": 10,
      "outputs": [
        {
          "output_type": "stream",
          "name": "stdout",
          "text": [
            "由低到高：\n",
            "Mary:72\n",
            "Bill:88\n",
            "Lendy:90\n",
            "John:92\n",
            "由高到低：\n",
            "John:92\n",
            "Lendy:90\n",
            "Bill:88\n",
            "Mary:72\n"
          ]
        }
      ]
    },
    {
      "cell_type": "markdown",
      "source": [
        "No13. 請設計兩個串列，names和scores，分別存放姓名和成績。姓名為Lendy，其成績為90、姓名為Mary，其成績為72、姓名為Bill，其成績為88和姓名為John，其成績為92。\n",
        "\n",
        "請從最低分到最高分，輸出姓名和成績。再從最高分到最低分，輸出姓名和成績。 請使用sort和reverse方法。\n",
        "\n",
        "提示:適切使用copy()"
      ],
      "metadata": {
        "id": "O8R12tF8wSDC"
      }
    },
    {
      "cell_type": "code",
      "source": [
        "names = ['Lendy', 'Mary', 'Bill', 'John']\n",
        "scores = [90, 72, 88, 92]\n",
        "\n",
        "# 配對姓名與成績，並建立複本\n",
        "paired = list(zip(names, scores))\n",
        "sorted_paired = paired.copy()\n",
        "\n",
        "# 依照成績從小到大排序\n",
        "sorted_paired.sort(key=lambda x: x[1])\n",
        "\n",
        "print(\"由低到高：\")\n",
        "for name, score in sorted_paired:\n",
        "    print(f\"{name}:{score}\")\n",
        "\n",
        "# 反轉為由大到小\n",
        "sorted_paired.reverse()\n",
        "\n",
        "print(\"由高到低：\")\n",
        "for name, score in sorted_paired:\n",
        "    print(f\"{name}:{score}\")\n"
      ],
      "metadata": {
        "id": "tEdaSprRwnmB"
      },
      "execution_count": null,
      "outputs": []
    },
    {
      "cell_type": "markdown",
      "source": [
        "No14.\n",
        "請設計兩個串列，names和scores，分別存放使用者輸入的姓名和成績。直到輸入姓名為空為止。並輸出使用者輸入的姓名和成績，其格式為，姓名:成績。\n",
        "\n",
        "輸入的姓名和成績，姓名為Lendy，其成績為90、姓名為Mary，其成績為72、姓名為Bill，其成績為88。\n",
        "\n",
        "\n",
        "提示:使用while迴圈\n"
      ],
      "metadata": {
        "id": "DZ4eugNdSYYj"
      }
    },
    {
      "cell_type": "code",
      "source": [
        "# prompt: 請設計兩個串列，names和scores，分別存放使用者輸入的姓名和成績。直到輸入姓名為空為止。並輸出使用者輸入的姓名和成績，其格式為，姓名:成績。\n",
        "# 輸入的姓名和成績，姓名為Lendy，其成績為90、姓名為Mary，其成績為72、姓名為Bill，其成績為88。\n",
        "# 提示:使用while迴圈\n",
        "\n",
        "names = []\n",
        "scores = []\n",
        "\n",
        "while True:\n",
        "  name = input(\"請輸入姓名 (輸入空字串結束): \")\n",
        "  if not name:\n",
        "    break\n",
        "  try:\n",
        "    score = int(input(f\"請輸入 {name} 的成績: \"))\n",
        "    names.append(name)\n",
        "    scores.append(score)\n",
        "  except ValueError:\n",
        "    print(\"輸入的成績格式不正確，請輸入數字。\")\n",
        "\n",
        "for i in range(len(names)):\n",
        "  print(f\"{names[i]}:{scores[i]}\")\n"
      ],
      "metadata": {
        "id": "DCBrTgGHSX34"
      },
      "execution_count": null,
      "outputs": []
    },
    {
      "cell_type": "markdown",
      "source": [
        "No15. 請設計兩個串列，names和scores，分別存放使用者輸入的姓名和成績。直到輸入姓名為空為止。並依照成績，從大到小，再從小到大，輸出使用者輸入的姓名和成績，其格式為，姓名:成績。\n",
        "\n",
        "輸入的姓名和成績，姓名為Lendy，其成績為90、姓名為Mary，其成績為72、姓名為Bill，其成績為88。\n",
        "\n",
        "提示:使用while迴圈、sorted和reversed方法。"
      ],
      "metadata": {
        "id": "yPS4G5GzygYu"
      }
    },
    {
      "cell_type": "code",
      "source": [
        "# prompt: 請設計兩個串列，names和scores，分別存放使用者輸入的姓名和成績。直到輸入姓名為空為止。並依照成績，從大到小，再從小到大，輸出使用者輸入的姓名和成績，其格式為，姓名:成績。\n",
        "# 輸入的姓名和成績，姓名為Lendy，其成績為90、姓名為Mary，其成績為72、姓名為Bill，其成績為88。\n",
        "# 提示:使用while迴圈、sorted和reversed方法。\n",
        "\n",
        "names = []\n",
        "scores = []\n",
        "\n",
        "while True:\n",
        "  name = input(\"請輸入姓名 (輸入空字串結束): \")\n",
        "  if not name:\n",
        "    break\n",
        "  try:\n",
        "    score = int(input(f\"請輸入 {name} 的成績: \"))\n",
        "    names.append(name)\n",
        "    scores.append(score)\n",
        "  except ValueError:\n",
        "    print(\"輸入的成績格式不正確，請輸入數字。\")\n",
        "\n",
        "# Combine names and scores into pairs\n",
        "paired_data = list(zip(names, scores))\n",
        "\n",
        "# Sort from high to low scores\n",
        "sorted_high_to_low = sorted(paired_data, key=lambda x: x[1], reverse=True)\n",
        "\n",
        "print(\"由高到低：\")\n",
        "for name, score in sorted_high_to_low:\n",
        "    print(f\"{name}:{score}\")\n",
        "\n",
        "# Sort from low to high scores\n",
        "sorted_low_to_high = sorted(paired_data, key=lambda x: x[1])\n",
        "\n",
        "print(\"由低到高：\")\n",
        "for name, score in sorted_low_to_high:\n",
        "    print(f\"{name}:{score}\")\n"
      ],
      "metadata": {
        "id": "mgzp-F5xzzXF"
      },
      "execution_count": null,
      "outputs": []
    },
    {
      "cell_type": "markdown",
      "source": [
        "No16. 請設計兩個串列，names和scores，分別存放使用者輸入的姓名和成績。直到輸入姓名為空為止。並依照成績，從大到小，再從小到大，輸出使用者輸入的姓名和成績，其格式為，姓名:成績。\n",
        "\n",
        "輸入的姓名和成績，姓名為Lendy，其成績為90、姓名為Mary，其成績為72、姓名為Bill，其成績為88。\n",
        "\n",
        "提示:使用while迴圈，使用sorted方法"
      ],
      "metadata": {
        "id": "UKZ0BmtuzweK"
      }
    },
    {
      "cell_type": "code",
      "source": [
        "# prompt: 請設計兩個串列，names和scores，分別存放使用者輸入的姓名和成績。直到輸入姓名為空為止。並依照成績，從大到小，再從小到大，輸出使用者輸入的姓名和成績，其格式為，姓名:成績。\n",
        "# 輸入的姓名和成績，姓名為Lendy，其成績為90、姓名為Mary，其成績為72、姓名為Bill，其成績為88。\n",
        "# 提示:使用while迴圈，使用sorted方法\n",
        "\n",
        "names = []\n",
        "scores = []\n",
        "\n",
        "while True:\n",
        "  name = input(\"請輸入姓名 (輸入空字串結束): \")\n",
        "  if not name:\n",
        "    break\n",
        "  try:\n",
        "    score = int(input(f\"請輸入 {name} 的成績: \"))\n",
        "    names.append(name)\n",
        "    scores.append(score)\n",
        "  except ValueError:\n",
        "    print(\"輸入的成績格式不正確，請輸入數字。\")\n",
        "\n",
        "# Combine names and scores into pairs\n",
        "paired_data = list(zip(names, scores))\n",
        "\n",
        "# Sort from high to low scores\n",
        "sorted_high_to_low = sorted(paired_data, key=lambda x: x[1], reverse=True)\n",
        "\n",
        "print(\"由高到低：\")\n",
        "for name, score in sorted_high_to_low:\n",
        "    print(f\"{name}:{score}\")\n",
        "\n",
        "# Sort from low to high scores\n",
        "sorted_low_to_high = sorted(paired_data, key=lambda x: x[1])\n",
        "\n",
        "print(\"由低到高：\")\n",
        "for name, score in sorted_low_to_high:\n",
        "    print(f\"{name}:{score}\")\n"
      ],
      "metadata": {
        "id": "cI7C-3RqCl8x"
      },
      "execution_count": null,
      "outputs": []
    },
    {
      "cell_type": "markdown",
      "source": [
        "No19. 請設計三個串列，names、java_scores和python_scores，分別存放使用者輸入的姓名，java成績和python成績。直到輸入姓名為空為止。並輸出使用者輸入的姓名，java成績和python成績，其格式為，姓名:java成績:python成績。\n",
        "\n",
        "輸入的姓名和成績，姓名為Lendy，其java成績成績為90，python成績成績為88、姓名為Mary，其java成績成績為72，python成績成績為90、姓名為Bill，其java成績成績為88，python成績成績為78。\n",
        "\n",
        "提示:使用while迴圈"
      ],
      "metadata": {
        "id": "M4g5qVAGM2d5"
      }
    },
    {
      "cell_type": "code",
      "source": [
        "# prompt: 請設計三個串列，names、java_scores和python_scores，分別存放使用者輸入的姓名，java成績和python成績。直到輸入姓名為空為止。並輸出使用者輸入的姓名，java成績和python成績，其格式為，姓名:java成績:python成績。\n",
        "# 輸入的姓名和成績，姓名為Lendy，其java成績成績為90，python成績成績為88、姓名為Mary，其java成績成績為72，python成績成績為90、姓名為Bill，其java成績成績為88，python成績成績為78。\n",
        "# 提示:使用while迴圈\n",
        "\n",
        "names = []\n",
        "java_scores = []\n",
        "python_scores = []\n",
        "\n",
        "while True:\n",
        "  name = input(\"請輸入姓名 (輸入空字串結束): \")\n",
        "  if not name:\n",
        "    break\n",
        "  try:\n",
        "    java_score = int(input(f\"請輸入 {name} 的 Java 成績: \"))\n",
        "    python_score = int(input(f\"請輸入 {name} 的 Python 成績: \"))\n",
        "    names.append(name)\n",
        "    java_scores.append(java_score)\n",
        "    python_scores.append(python_score)\n",
        "  except ValueError:\n",
        "    print(\"輸入的成績格式不正確，請輸入數字。\")\n",
        "\n",
        "for i in range(len(names)):\n",
        "  print(f\"{names[i]}:{java_scores[i]}:{python_scores[i]}\")\n"
      ],
      "metadata": {
        "id": "3rKCFxLiOJTQ"
      },
      "execution_count": null,
      "outputs": []
    },
    {
      "cell_type": "markdown",
      "source": [
        "No20. 請使用辭典搭配串列students，透過辭典存放使用者輸入的姓名，java成績和python成績。直到輸入姓名為空為止。並輸出使用者輸入的姓名，java成績和python成績，其格式為，姓名:java成績:python成績。\n",
        "\n",
        "輸入的姓名和成績，姓名為Lendy，其java成績成績為90，python成績成績為88、姓名為Mary，其java成績成績為72，python成績成績為90、姓名為Bill，其java成績成績為88，python成績成績為78。\n",
        "\n",
        "提示:使用while迴圈"
      ],
      "metadata": {
        "id": "XigqAco7P0Vf"
      }
    },
    {
      "cell_type": "code",
      "source": [
        "students = []\n",
        "\n",
        "while True:\n",
        "    name = input(\"請輸入姓名（輸入空白結束）：\")\n",
        "    if name == \"\":\n",
        "        break\n",
        "    java = int(input(\"請輸入 Java 成績：\"))\n",
        "    python = int(input(\"請輸入 Python 成績：\"))\n",
        "\n",
        "    student = {\n",
        "        \"name\": name,\n",
        "        \"java\": java,\n",
        "        \"python\": python\n",
        "    }\n",
        "    students.append(student)\n",
        "\n",
        "# 輸出學生資料\n",
        "for s in students:\n",
        "    print(f\"{s['name']}:{s['java']}:{s['python']}\")\n"
      ],
      "metadata": {
        "id": "hfhluxmI6zgr"
      },
      "execution_count": null,
      "outputs": []
    },
    {
      "cell_type": "markdown",
      "source": [
        "No21. 請使用辭典搭配串列students，透過辭典存放使用者輸入的姓名，java成績和python成績。直到輸入姓名為空為止。並依照java成績，從小到大，輸出使用者輸入的姓名，java成績和python成績，其格式為，姓名:java成績:python成績。\n",
        "\n",
        "輸入的姓名和成績，姓名為Lendy，其java成績成績為90，python成績成績為88、姓名為Mary，其java成績成績為72，python成績成績為90、姓名為Bill，其java成績成績為88，python成績成績為78。\n",
        "\n",
        "提示:使用while迴圈"
      ],
      "metadata": {
        "id": "c4smi8kNQ1IC"
      }
    },
    {
      "cell_type": "code",
      "source": [
        "# prompt: 請使用辭典搭配串列students，透過辭典存放使用者輸入的姓名，java成績和python成績。直到輸入姓名為空為止。並依照java成績，從小到大，輸出使用者輸入的姓名，java成績和python成績，其格式為，姓名:java成績:python成績。\n",
        "# 輸入的姓名和成績，姓名為Lendy，其java成績成績為90，python成績成績為88、姓名為Mary，其java成績成績為72，python成績成績為90、姓名為Bill，其java成績成績為88，python成績成績為78。\n",
        "# 提示:使用while迴圈\n",
        "\n",
        "students = []\n",
        "while True:\n",
        "    name = input(\"請輸入姓名 (輸入空白結束): \")\n",
        "    if not name:\n",
        "        break\n",
        "    try:\n",
        "        java_score = int(input(f\"請輸入 {name} 的 Java 成績: \"))\n",
        "        python_score = int(input(f\"請輸入 {name} 的 Python 成績: \"))\n",
        "        students.append({\"name\": name, \"java\": java_score, \"python\": python_score})\n",
        "    except ValueError:\n",
        "        print(\"成績輸入錯誤，請輸入數字。\")\n",
        "\n",
        "# 依照 java 成績排序\n",
        "students.sort(key=lambda x: x[\"java\"])\n",
        "\n",
        "# 輸出結果\n",
        "for student in students:\n",
        "    print(f\"{student['name']}:{student['java']}:{student['python']}\")\n"
      ],
      "metadata": {
        "id": "CqqCGhvxdCiR"
      },
      "execution_count": null,
      "outputs": []
    },
    {
      "cell_type": "markdown",
      "source": [
        "No22. 請使用辭典搭配串列students，透過辭典存放使用者輸入的姓名，java成績和python成績。直到輸入姓名為空為止。並依照java成績，從大到小，輸出使用者輸入的姓名，java成績和python成績，其格式為，姓名:java成績:python成績。\n",
        "\n",
        "輸入的姓名和成績，姓名為Lendy，其java成績成績為90，python成績成績為88、姓名為Mary，其java成績成績為72，python成績成績為90、姓名為Bill，其java成績成績為88，python成績成績為78。\n",
        "\n",
        "提示:使用while迴圈"
      ],
      "metadata": {
        "id": "SwgN2ghmdZNS"
      }
    },
    {
      "cell_type": "code",
      "source": [
        "# prompt: 請使用辭典搭配串列students，透過辭典存放使用者輸入的姓名，java成績和python成績。直到輸入姓名為空為止。並依照java成績，從大到小，輸出使用者輸入的姓名，java成績和python成績，其格式為，姓名:java成績:python成績。\n",
        "# 輸入的姓名和成績，姓名為Lendy，其java成績成績為90，python成績成績為88、姓名為Mary，其java成績成績為72，python成績成績為90、姓名為Bill，其java成績成績為88，python成績成績為78。\n",
        "# 提示:使用while迴圈\n",
        "\n",
        "students = []\n",
        "while True:\n",
        "    name = input(\"請輸入姓名 (輸入空值結束): \")\n",
        "    if not name:\n",
        "        break\n",
        "    try:\n",
        "        java_score = int(input(f\"請輸入 {name} 的 Java 成績: \"))\n",
        "        python_score = int(input(f\"請輸入 {name} 的 Python 成績: \"))\n",
        "        students.append({'name': name, 'java': java_score, 'python': python_score})\n",
        "    except ValueError:\n",
        "        print(\"輸入的成績格式錯誤，請輸入整數。\")\n",
        "        continue\n",
        "\n",
        "# 依照 java 成績排序，從大到小\n",
        "students_sorted = sorted(students, key=lambda x: x['java'], reverse=True)\n",
        "\n",
        "# 輸出結果\n",
        "for student in students_sorted:\n",
        "    print(f\"{student['name']}:{student['java']}:{student['python']}\")\n"
      ],
      "metadata": {
        "id": "7LTNnuORdgBP",
        "outputId": "feb19477-89f7-4f90-a5f0-f0fd147576c3",
        "colab": {
          "base_uri": "https://localhost:8080/"
        }
      },
      "execution_count": 11,
      "outputs": [
        {
          "output_type": "stream",
          "name": "stdout",
          "text": [
            "請輸入姓名 (輸入空值結束): a\n",
            "請輸入 a 的 Java 成績: 2\n",
            "請輸入 a 的 Python 成績: 3\n",
            "請輸入姓名 (輸入空值結束): b\n",
            "請輸入 b 的 Java 成績: 3\n",
            "請輸入 b 的 Python 成績: 4\n",
            "請輸入姓名 (輸入空值結束): c\n",
            "請輸入 c 的 Java 成績: 5\n",
            "請輸入 c 的 Python 成績: 6\n",
            "請輸入姓名 (輸入空值結束):  \n",
            "請輸入   的 Java 成績: 3\n",
            "請輸入   的 Python 成績: 3\n",
            "請輸入姓名 (輸入空值結束): \n",
            "c:5:6\n",
            "b:3:4\n",
            " :3:3\n",
            "a:2:3\n"
          ]
        }
      ]
    }
  ]
}